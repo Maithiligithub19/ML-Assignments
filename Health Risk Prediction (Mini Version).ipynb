{
 "cells": [
  {
   "cell_type": "markdown",
   "id": "fde396d4-2fc7-4f51-83b7-dd0823519b27",
   "metadata": {},
   "source": [
    "Health Risk Prediction (BMI) - Complete Notebook\n",
    "\n",
    "This notebook demonstrates a Health Risk Prediction System using PyTorch.\n",
    "It predicts a person’s BMI (Body Mass Index) based on their Sleep Hours, Daily Steps, and Daily Calories Intake.\n",
    "\n",
    "We also provide health recommendations based on predicted BMI."
   ]
  },
  {
   "cell_type": "markdown",
   "id": "7cb3b754-5729-4729-b335-139cd4d0a356",
   "metadata": {},
   "source": [
    "Step 1: Import Libraries\n",
    "\n",
    "We start by importing all the required libraries:\n",
    "\n",
    "pandas, numpy → data handling\n",
    "\n",
    "matplotlib, seaborn → visualization\n",
    "\n",
    "torch → deep learning framework (PyTorch)\n",
    "\n",
    "scikit-learn → preprocessing & evaluation metrics"
   ]
  },
  {
   "cell_type": "code",
   "execution_count": 34,
   "id": "38f01d8d-0f7c-4f28-98aa-7d085a31a555",
   "metadata": {},
   "outputs": [],
   "source": [
    "# Import libraries\n",
    "import pandas as pd\n",
    "import numpy as np\n",
    "import matplotlib.pyplot as plt\n",
    "import seaborn as sns"
   ]
  },
  {
   "cell_type": "markdown",
   "id": "7c3327e4-780c-48de-b835-91237e493936",
   "metadata": {},
   "source": [
    "Step 2: Create Dummy Dataset\n",
    "\n",
    "We create a synthetic dataset of 15 individuals with the following features:\n",
    "\n",
    "SleepHours: Average daily sleep hours\n",
    "\n",
    "DailySteps: Steps taken per day\n",
    "\n",
    "CaloriesIntake: Daily calorie intake\n",
    "\n",
    "BMI: Body Mass Index (target variable)\n",
    "\n",
    "This dataset simulates lifestyle factors that impact BMI."
   ]
  },
  {
   "cell_type": "code",
   "execution_count": 35,
   "id": "6a9170ca-a093-4834-8b40-d3fd757b0ae7",
   "metadata": {},
   "outputs": [
    {
     "data": {
      "text/html": [
       "<div>\n",
       "<style scoped>\n",
       "    .dataframe tbody tr th:only-of-type {\n",
       "        vertical-align: middle;\n",
       "    }\n",
       "\n",
       "    .dataframe tbody tr th {\n",
       "        vertical-align: top;\n",
       "    }\n",
       "\n",
       "    .dataframe thead th {\n",
       "        text-align: right;\n",
       "    }\n",
       "</style>\n",
       "<table border=\"1\" class=\"dataframe\">\n",
       "  <thead>\n",
       "    <tr style=\"text-align: right;\">\n",
       "      <th></th>\n",
       "      <th>SleepHours</th>\n",
       "      <th>DailySteps</th>\n",
       "      <th>CaloriesIntake</th>\n",
       "      <th>BMI</th>\n",
       "    </tr>\n",
       "  </thead>\n",
       "  <tbody>\n",
       "    <tr>\n",
       "      <th>0</th>\n",
       "      <td>7</td>\n",
       "      <td>7000</td>\n",
       "      <td>2200</td>\n",
       "      <td>23.5</td>\n",
       "    </tr>\n",
       "    <tr>\n",
       "      <th>1</th>\n",
       "      <td>6</td>\n",
       "      <td>8000</td>\n",
       "      <td>2100</td>\n",
       "      <td>22.0</td>\n",
       "    </tr>\n",
       "    <tr>\n",
       "      <th>2</th>\n",
       "      <td>8</td>\n",
       "      <td>6500</td>\n",
       "      <td>2500</td>\n",
       "      <td>25.0</td>\n",
       "    </tr>\n",
       "    <tr>\n",
       "      <th>3</th>\n",
       "      <td>5</td>\n",
       "      <td>9000</td>\n",
       "      <td>2000</td>\n",
       "      <td>21.5</td>\n",
       "    </tr>\n",
       "    <tr>\n",
       "      <th>4</th>\n",
       "      <td>7</td>\n",
       "      <td>7500</td>\n",
       "      <td>2300</td>\n",
       "      <td>24.0</td>\n",
       "    </tr>\n",
       "    <tr>\n",
       "      <th>5</th>\n",
       "      <td>6</td>\n",
       "      <td>8200</td>\n",
       "      <td>2400</td>\n",
       "      <td>26.0</td>\n",
       "    </tr>\n",
       "    <tr>\n",
       "      <th>6</th>\n",
       "      <td>7</td>\n",
       "      <td>7800</td>\n",
       "      <td>2250</td>\n",
       "      <td>23.0</td>\n",
       "    </tr>\n",
       "    <tr>\n",
       "      <th>7</th>\n",
       "      <td>8</td>\n",
       "      <td>6000</td>\n",
       "      <td>2150</td>\n",
       "      <td>22.5</td>\n",
       "    </tr>\n",
       "    <tr>\n",
       "      <th>8</th>\n",
       "      <td>5</td>\n",
       "      <td>9500</td>\n",
       "      <td>2050</td>\n",
       "      <td>20.5</td>\n",
       "    </tr>\n",
       "    <tr>\n",
       "      <th>9</th>\n",
       "      <td>6</td>\n",
       "      <td>7200</td>\n",
       "      <td>2350</td>\n",
       "      <td>25.5</td>\n",
       "    </tr>\n",
       "    <tr>\n",
       "      <th>10</th>\n",
       "      <td>7</td>\n",
       "      <td>8000</td>\n",
       "      <td>2450</td>\n",
       "      <td>24.5</td>\n",
       "    </tr>\n",
       "    <tr>\n",
       "      <th>11</th>\n",
       "      <td>8</td>\n",
       "      <td>6700</td>\n",
       "      <td>2550</td>\n",
       "      <td>27.0</td>\n",
       "    </tr>\n",
       "    <tr>\n",
       "      <th>12</th>\n",
       "      <td>6</td>\n",
       "      <td>8800</td>\n",
       "      <td>2100</td>\n",
       "      <td>21.0</td>\n",
       "    </tr>\n",
       "    <tr>\n",
       "      <th>13</th>\n",
       "      <td>7</td>\n",
       "      <td>7300</td>\n",
       "      <td>2200</td>\n",
       "      <td>23.0</td>\n",
       "    </tr>\n",
       "    <tr>\n",
       "      <th>14</th>\n",
       "      <td>5</td>\n",
       "      <td>9100</td>\n",
       "      <td>2000</td>\n",
       "      <td>20.0</td>\n",
       "    </tr>\n",
       "  </tbody>\n",
       "</table>\n",
       "</div>"
      ],
      "text/plain": [
       "    SleepHours  DailySteps  CaloriesIntake   BMI\n",
       "0            7        7000            2200  23.5\n",
       "1            6        8000            2100  22.0\n",
       "2            8        6500            2500  25.0\n",
       "3            5        9000            2000  21.5\n",
       "4            7        7500            2300  24.0\n",
       "5            6        8200            2400  26.0\n",
       "6            7        7800            2250  23.0\n",
       "7            8        6000            2150  22.5\n",
       "8            5        9500            2050  20.5\n",
       "9            6        7200            2350  25.5\n",
       "10           7        8000            2450  24.5\n",
       "11           8        6700            2550  27.0\n",
       "12           6        8800            2100  21.0\n",
       "13           7        7300            2200  23.0\n",
       "14           5        9100            2000  20.0"
      ]
     },
     "execution_count": 35,
     "metadata": {},
     "output_type": "execute_result"
    }
   ],
   "source": [
    "# Dummy dataset (15 rows)\n",
    "data = {\n",
    "    'SleepHours': [7, 6, 8, 5, 7, 6, 7, 8, 5, 6, 7, 8, 6, 7, 5],\n",
    "    'DailySteps': [7000, 8000, 6500, 9000, 7500, 8200, 7800, 6000, 9500, 7200, 8000, 6700, 8800, 7300, 9100],\n",
    "    'CaloriesIntake': [2200, 2100, 2500, 2000, 2300, 2400, 2250, 2150, 2050, 2350, 2450, 2550, 2100, 2200, 2000],\n",
    "    'BMI': [23.5, 22.0, 25.0, 21.5, 24.0, 26.0, 23.0, 22.5, 20.5, 25.5, 24.5, 27.0, 21.0, 23.0, 20.0]\n",
    "}\n",
    "df = pd.DataFrame(data)\n",
    "\n",
    "# Display the dataset\n",
    "df.head(15)"
   ]
  },
  {
   "cell_type": "markdown",
   "id": "4e231959-c5a5-4ca2-b459-c7651a181f97",
   "metadata": {},
   "source": [
    "Step 3: FData Preprocessing & Feature Scaling\n",
    "\n",
    "To prepare data for training:\n",
    "\n",
    "Extract features (SleepHours, DailySteps, CaloriesIntake) as X\n",
    "\n",
    "Target variable BMI as y\n",
    "\n",
    "Use StandardScaler to normalize features for better training convergence\n",
    "\n",
    "Convert scaled features back into a DataFrame for inspection"
   ]
  },
  {
   "cell_type": "code",
   "execution_count": 36,
   "id": "778d9967-d6e8-4232-bef3-e6ab867a65d3",
   "metadata": {},
   "outputs": [
    {
     "data": {
      "text/html": [
       "<div>\n",
       "<style scoped>\n",
       "    .dataframe tbody tr th:only-of-type {\n",
       "        vertical-align: middle;\n",
       "    }\n",
       "\n",
       "    .dataframe tbody tr th {\n",
       "        vertical-align: top;\n",
       "    }\n",
       "\n",
       "    .dataframe thead th {\n",
       "        text-align: right;\n",
       "    }\n",
       "</style>\n",
       "<table border=\"1\" class=\"dataframe\">\n",
       "  <thead>\n",
       "    <tr style=\"text-align: right;\">\n",
       "      <th></th>\n",
       "      <th>SleepHours</th>\n",
       "      <th>DailySteps</th>\n",
       "      <th>CaloriesIntake</th>\n",
       "    </tr>\n",
       "  </thead>\n",
       "  <tbody>\n",
       "    <tr>\n",
       "      <th>0</th>\n",
       "      <td>0.455661</td>\n",
       "      <td>-0.780406</td>\n",
       "      <td>-0.230684</td>\n",
       "    </tr>\n",
       "    <tr>\n",
       "      <th>1</th>\n",
       "      <td>-0.520756</td>\n",
       "      <td>0.228740</td>\n",
       "      <td>-0.807394</td>\n",
       "    </tr>\n",
       "    <tr>\n",
       "      <th>2</th>\n",
       "      <td>1.432078</td>\n",
       "      <td>-1.284979</td>\n",
       "      <td>1.499446</td>\n",
       "    </tr>\n",
       "    <tr>\n",
       "      <th>3</th>\n",
       "      <td>-1.497172</td>\n",
       "      <td>1.237886</td>\n",
       "      <td>-1.384104</td>\n",
       "    </tr>\n",
       "    <tr>\n",
       "      <th>4</th>\n",
       "      <td>0.455661</td>\n",
       "      <td>-0.275833</td>\n",
       "      <td>0.346026</td>\n",
       "    </tr>\n",
       "    <tr>\n",
       "      <th>5</th>\n",
       "      <td>-0.520756</td>\n",
       "      <td>0.430569</td>\n",
       "      <td>0.922736</td>\n",
       "    </tr>\n",
       "    <tr>\n",
       "      <th>6</th>\n",
       "      <td>0.455661</td>\n",
       "      <td>0.026911</td>\n",
       "      <td>0.057671</td>\n",
       "    </tr>\n",
       "    <tr>\n",
       "      <th>7</th>\n",
       "      <td>1.432078</td>\n",
       "      <td>-1.789553</td>\n",
       "      <td>-0.519039</td>\n",
       "    </tr>\n",
       "    <tr>\n",
       "      <th>8</th>\n",
       "      <td>-1.497172</td>\n",
       "      <td>1.742459</td>\n",
       "      <td>-1.095749</td>\n",
       "    </tr>\n",
       "    <tr>\n",
       "      <th>9</th>\n",
       "      <td>-0.520756</td>\n",
       "      <td>-0.578577</td>\n",
       "      <td>0.634381</td>\n",
       "    </tr>\n",
       "    <tr>\n",
       "      <th>10</th>\n",
       "      <td>0.455661</td>\n",
       "      <td>0.228740</td>\n",
       "      <td>1.211091</td>\n",
       "    </tr>\n",
       "    <tr>\n",
       "      <th>11</th>\n",
       "      <td>1.432078</td>\n",
       "      <td>-1.083150</td>\n",
       "      <td>1.787800</td>\n",
       "    </tr>\n",
       "    <tr>\n",
       "      <th>12</th>\n",
       "      <td>-0.520756</td>\n",
       "      <td>1.036057</td>\n",
       "      <td>-0.807394</td>\n",
       "    </tr>\n",
       "    <tr>\n",
       "      <th>13</th>\n",
       "      <td>0.455661</td>\n",
       "      <td>-0.477663</td>\n",
       "      <td>-0.230684</td>\n",
       "    </tr>\n",
       "    <tr>\n",
       "      <th>14</th>\n",
       "      <td>-1.497172</td>\n",
       "      <td>1.338801</td>\n",
       "      <td>-1.384104</td>\n",
       "    </tr>\n",
       "  </tbody>\n",
       "</table>\n",
       "</div>"
      ],
      "text/plain": [
       "    SleepHours  DailySteps  CaloriesIntake\n",
       "0     0.455661   -0.780406       -0.230684\n",
       "1    -0.520756    0.228740       -0.807394\n",
       "2     1.432078   -1.284979        1.499446\n",
       "3    -1.497172    1.237886       -1.384104\n",
       "4     0.455661   -0.275833        0.346026\n",
       "5    -0.520756    0.430569        0.922736\n",
       "6     0.455661    0.026911        0.057671\n",
       "7     1.432078   -1.789553       -0.519039\n",
       "8    -1.497172    1.742459       -1.095749\n",
       "9    -0.520756   -0.578577        0.634381\n",
       "10    0.455661    0.228740        1.211091\n",
       "11    1.432078   -1.083150        1.787800\n",
       "12   -0.520756    1.036057       -0.807394\n",
       "13    0.455661   -0.477663       -0.230684\n",
       "14   -1.497172    1.338801       -1.384104"
      ]
     },
     "execution_count": 36,
     "metadata": {},
     "output_type": "execute_result"
    }
   ],
   "source": [
    "# Import scaler\n",
    "from sklearn.preprocessing import StandardScaler\n",
    "\n",
    "# Features and target\n",
    "X = df[['SleepHours', 'DailySteps', 'CaloriesIntake']]\n",
    "y = df['BMI']\n",
    "\n",
    "# Standardize features\n",
    "scaler = StandardScaler()\n",
    "X_scaled = scaler.fit_transform(X)\n",
    "\n",
    "# Convert back to DataFrame for easy viewing\n",
    "X_scaled_df = pd.DataFrame(X_scaled, columns=X.columns)\n",
    "X_scaled_df.head(15)"
   ]
  },
  {
   "cell_type": "markdown",
   "id": "de3403a6-b53d-4124-ac83-a65f68c216cd",
   "metadata": {},
   "source": [
    "Step 4: Model Building & Training (PyTorch)\n",
    "\n",
    "We implement a Linear Regression model in PyTorch:\n",
    "\n",
    "Input: 3 features (sleep, steps, calories)\n",
    "\n",
    "Output: 1 value (predicted BMI)\n",
    "\n",
    "Loss Function: Mean Squared Error (MSE)\n",
    "\n",
    "Optimizer: Stochastic Gradient Descent (SGD)\n",
    "\n",
    "Training details:\n",
    "\n",
    "Epochs = 1000\n",
    "\n",
    "Loss values are tracked to ensure convergence\n",
    "\n",
    "Training loss is plotted to visualize learning progress"
   ]
  },
  {
   "cell_type": "code",
   "execution_count": 37,
   "id": "ca265064-fd08-4fdc-aeff-22f895cfe19c",
   "metadata": {},
   "outputs": [
    {
     "name": "stdout",
     "output_type": "stream",
     "text": [
      "Epoch 200 | Loss: 0.2435\n",
      "Epoch 400 | Loss: 0.2430\n",
      "Epoch 600 | Loss: 0.2430\n",
      "Epoch 800 | Loss: 0.2430\n",
      "Epoch 1000 | Loss: 0.2430\n"
     ]
    },
    {
     "data": {
      "image/png": "[encoded data removed]",
      "text/plain": [
       "<Figure size 640x480 with 1 Axes>"
      ]
     },
     "metadata": {},
     "output_type": "display_data"
    }
   ],
   "source": [
    "import torch\n",
    "import torch.nn as nn\n",
    "import torch.optim as optim\n",
    "\n",
    "# Convert data to PyTorch tensors\n",
    "X_tensor = torch.tensor(X_scaled, dtype=torch.float32)\n",
    "y_tensor = torch.tensor(y.values, dtype=torch.float32).view(-1, 1)\n",
    "\n",
    "# Define a simple linear regression model\n",
    "model = nn.Linear(3, 1)  # 3 input features, 1 output (BMI)\n",
    "\n",
    "# Loss function and optimizer\n",
    "criterion = nn.MSELoss()\n",
    "optimizer = optim.SGD(model.parameters(), lr=0.1)\n",
    "\n",
    "# Training loop\n",
    "epochs = 1000\n",
    "losses = []\n",
    "for epoch in range(epochs):\n",
    "    model.train()\n",
    "    optimizer.zero_grad()\n",
    "    preds = model(X_tensor)\n",
    "    loss = criterion(preds, y_tensor)\n",
    "    loss.backward()\n",
    "    optimizer.step()\n",
    "    losses.append(loss.item())\n",
    "    if (epoch+1) % 200 == 0:\n",
    "        print(f\"Epoch {epoch+1} | Loss: {loss.item():.4f}\")\n",
    "\n",
    "# Plot training loss\n",
    "import matplotlib.pyplot as plt\n",
    "plt.plot(losses)\n",
    "plt.title(\"Training Loss (MSE)\")\n",
    "plt.xlabel(\"Epoch\")\n",
    "plt.ylabel(\"Loss\")\n",
    "plt.show()"
   ]
  },
  {
   "cell_type": "markdown",
   "id": "19c06957-e950-4170-ae3d-abac1aa89784",
   "metadata": {},
   "source": [
    "Step 5: Model Evaluation\n",
    "\n",
    "We evaluate the trained model using:\n",
    "\n",
    "Mean Squared Error (MSE) → Measures prediction error\n",
    "\n",
    "R² Score → Measures how well features explain BMI variance\n",
    "\n",
    "Additionally, we:\n",
    "\n",
    "Plot Actual vs Predicted BMI to assess prediction quality\n",
    "\n",
    "Draw a diagonal reference line (perfect prediction line)"
   ]
  },
  {
   "cell_type": "code",
   "execution_count": 38,
   "id": "2bf1723c-9e89-4a1d-a7f2-018888c4d6e6",
   "metadata": {},
   "outputs": [
    {
     "name": "stdout",
     "output_type": "stream",
     "text": [
      "Mean Squared Error (MSE): 0.2430\n",
      "R² Score: 0.9397\n"
     ]
    },
    {
     "data": {
      "image/png": "[encoded data removed]",
      "text/plain": [
       "<Figure size 640x480 with 1 Axes>"
      ]
     },
     "metadata": {},
     "output_type": "display_data"
    }
   ],
   "source": [
    "from sklearn.metrics import mean_squared_error, r2_score\n",
    "\n",
    "# Model predictions\n",
    "model.eval()\n",
    "with torch.no_grad():\n",
    "    y_pred = model(X_tensor).numpy()\n",
    "\n",
    "# Calculate metrics\n",
    "mse = mean_squared_error(y, y_pred)\n",
    "r2 = r2_score(y, y_pred)\n",
    "\n",
    "print(f\"Mean Squared Error (MSE): {mse:.4f}\")\n",
    "print(f\"R² Score: {r2:.4f}\")\n",
    "\n",
    "# Plot actual vs predicted BMI\n",
    "plt.scatter(y, y_pred)\n",
    "plt.xlabel(\"Actual BMI\")\n",
    "plt.ylabel(\"Predicted BMI\")\n",
    "plt.title(\"Actual vs Predicted BMI\")\n",
    "plt.plot([y.min(), y.max()], [y.min(), y.max()], 'r--')  # Diagonal line\n",
    "plt.show()"
   ]
  },
  {
   "cell_type": "markdown",
   "id": "7e26fd3c-78bd-4bbf-9634-1ef1a2f5438a",
   "metadata": {},
   "source": [
    "Step 6: User Input Prediction\n",
    "\n",
    "We allow the user to enter their own lifestyle values:\n",
    "\n",
    "Sleep hours\n",
    "\n",
    "Daily steps\n",
    "\n",
    "Calorie intake\n",
    "\n",
    "The model predicts the BMI for the given input after scaling the features."
   ]
  },
  {
   "cell_type": "code",
   "execution_count": 39,
   "id": "ceaeded0-924e-4874-8eea-55e8f7e58748",
   "metadata": {},
   "outputs": [
    {
     "name": "stdin",
     "output_type": "stream",
     "text": [
      "Enter Sleep Hours:  7\n",
      "Enter Daily Steps:  7000\n",
      "Enter Calories Intake:  2200\n"
     ]
    },
    {
     "name": "stdout",
     "output_type": "stream",
     "text": [
      "Predicted BMI for your input: 23.16\n"
     ]
    }
   ],
   "source": [
    "# User input\n",
    "sleep = float(input(\"Enter Sleep Hours: \"))\n",
    "steps = float(input(\"Enter Daily Steps: \"))\n",
    "calories = float(input(\"Enter Calories Intake: \"))\n",
    "\n",
    "# Prepare input for prediction\n",
    "user_sample = np.array([[sleep, steps, calories]])\n",
    "user_sample_df = pd.DataFrame(user_sample, columns=X.columns)\n",
    "user_sample_scaled = scaler.transform(user_sample_df)\n",
    "user_sample_tensor = torch.tensor(user_sample_scaled, dtype=torch.float32)\n",
    "\n",
    "# Predict BMI\n",
    "model.eval()\n",
    "with torch.no_grad():\n",
    "    user_pred_bmi = model(user_sample_tensor).item()\n",
    "\n",
    "print(f\"Predicted BMI for your input: {user_pred_bmi:.2f}\")"
   ]
  },
  {
   "cell_type": "markdown",
   "id": "7963e812-9417-4c2c-86d8-930b1a9c92d4",
   "metadata": {},
   "source": [
    "Step 7: Model Accuracy\n",
    "\n",
    "We display the R² Score as Accuracy to provide a simple performance indicator for end-users."
   ]
  },
  {
   "cell_type": "code",
   "execution_count": 40,
   "id": "a0e6aa68-f9ff-47be-9639-5f7d262478e9",
   "metadata": {},
   "outputs": [
    {
     "name": "stdout",
     "output_type": "stream",
     "text": [
      "Model Accuracy: 93%\n"
     ]
    }
   ],
   "source": [
    "print(f\"Model Accuracy: {int(r2 * 100)}%\")"
   ]
  },
  {
   "cell_type": "markdown",
   "id": "d335a308-e724-43ab-990e-efe91acf7d6c",
   "metadata": {},
   "source": [
    "Step 8: Visualization & Health Tips\n",
    "\n",
    "BMI Distribution → Histogram + KDE to understand population spread\n",
    "\n",
    "Health Tips Function → Provides personalized suggestions:\n",
    "\n",
    "Underweight → Improve diet, consult doctor\n",
    "\n",
    "Normal → Maintain lifestyle\n",
    "\n",
    "Overweight → Increase activity, monitor food\n",
    "\n",
    "Obese → Seek medical guidance\n",
    "\n",
    "This step adds practical health insights beyond just numbers."
   ]
  },
  {
   "cell_type": "code",
   "execution_count": 41,
   "id": "2a4d2def-cad2-4cc9-bc2c-4cd569b55923",
   "metadata": {},
   "outputs": [
    {
     "data": {
      "image/png": "[encoded data removed]",
      "text/plain": [
       "<Figure size 640x480 with 1 Axes>"
      ]
     },
     "metadata": {},
     "output_type": "display_data"
    },
    {
     "name": "stdout",
     "output_type": "stream",
     "text": [
      "Health Tip: Normal: Maintain your healthy lifestyle!\n"
     ]
    }
   ],
   "source": [
    "import seaborn as sns\n",
    "\n",
    "# Visualize BMI distribution\n",
    "sns.histplot(df['BMI'], bins=5, kde=True)\n",
    "plt.title(\"BMI Distribution\")\n",
    "plt.xlabel(\"BMI\")\n",
    "plt.show()\n",
    "\n",
    "# Health tips based on BMI\n",
    "def health_tip(bmi):\n",
    "    if bmi < 18.5:\n",
    "        return \"Underweight: Consider a balanced diet and consult a doctor.\"\n",
    "    elif bmi < 25:\n",
    "        return \"Normal: Maintain your healthy lifestyle!\"\n",
    "    elif bmi < 30:\n",
    "        return \"Overweight: Try to increase physical activity and monitor diet.\"\n",
    "    else:\n",
    "        return \"Obese: Consult a healthcare professional for guidance.\"\n",
    "\n",
    "print(\"Health Tip:\", health_tip(user_pred_bmi))"
   ]
  },
  {
   "cell_type": "markdown",
   "id": "2d7b1dad-fa17-49a5-ace3-994d045ed7c4",
   "metadata": {},
   "source": [
    "Step 11: Model Saving & Loading\n",
    "\n",
    "To make the model reusable:\n",
    "\n",
    "Save trained weights as bmi_model.pth\n",
    "\n",
    "Load them back into a new PyTorch model\n",
    "\n",
    "This ensures the trained model can be deployed or reused later."
   ]
  },
  {
   "cell_type": "code",
   "execution_count": 42,
   "id": "0cf594bb-ae61-4cf7-a3ae-050efe1a74f6",
   "metadata": {},
   "outputs": [
    {
     "data": {
      "text/plain": [
       "<All keys matched successfully>"
      ]
     },
     "execution_count": 42,
     "metadata": {},
     "output_type": "execute_result"
    }
   ],
   "source": [
    "# Save model\n",
    "torch.save(model.state_dict(), \"bmi_model.pth\")\n",
    "\n",
    "# Load model\n",
    "model_loaded = nn.Linear(3, 1)\n",
    "model_loaded.load_state_dict(torch.load(\"bmi_model.pth\"))"
   ]
  }
 ],
 "metadata": {
  "kernelspec": {
   "display_name": "Python 3 (ipykernel)",
   "language": "python",
   "name": "python3"
  },
  "language_info": {
   "codemirror_mode": {
    "name": "ipython",
    "version": 3
   },
   "file_extension": ".py",
   "mimetype": "text/x-python",
   "name": "python",
   "nbconvert_exporter": "python",
   "pygments_lexer": "ipython3",
   "version": "3.13.5"
  }
 },
 "nbformat": 4,
 "nbformat_minor": 5
}
